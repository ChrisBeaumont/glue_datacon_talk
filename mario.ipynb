{
 "metadata": {
  "name": "",
  "signature": "sha256:996f5328afe629b7725764bc8ebca8b4bee5b5ff9cde92be8cf03b4a535d204a"
 },
 "nbformat": 3,
 "nbformat_minor": 0,
 "worksheets": [
  {
   "cells": [
    {
     "cell_type": "heading",
     "level": 1,
     "metadata": {},
     "source": [
      "It's-a me! Mario!\n",
      "<br>\n",
      "<img src=\"http://schmoesknow.com/wp-content/uploads/2012/11/8-bit-mario.jpg\">"
     ]
    },
    {
     "cell_type": "code",
     "collapsed": false,
     "input": [
      "%matplotlib inline\n",
      "\n",
      "from json import load\n",
      "from glob import glob\n",
      "from skimage.io import imread\n",
      "\n",
      "import pandas as pd\n",
      "import numpy as np\n",
      "import matplotlib.pyplot as plt\n",
      "from IPython.html.widgets import interact\n",
      "\n",
      "plt.rcParams.update(**{'figure.figsize':(8,6),\n",
      "                       'figure.dpi':500,\n",
      "                       'font.size':12})"
     ],
     "language": "python",
     "metadata": {},
     "outputs": []
    },
    {
     "cell_type": "code",
     "collapsed": false,
     "input": [
      "data = pd.read_csv('mario_data.csv')\n",
      "df = pd.read_csv('timelines.csv')\n",
      "df.head()"
     ],
     "language": "python",
     "metadata": {},
     "outputs": []
    },
    {
     "cell_type": "code",
     "collapsed": false,
     "input": [
      "df.describe()"
     ],
     "language": "python",
     "metadata": {},
     "outputs": []
    },
    {
     "cell_type": "code",
     "collapsed": false,
     "input": [
      "df.finaltime.hist(fc='#575757')"
     ],
     "language": "python",
     "metadata": {},
     "outputs": []
    },
    {
     "cell_type": "code",
     "collapsed": false,
     "input": [
      "plt.plot(df.x, -df.y, '.k', alpha=0.3)\n",
      "plt.xlim(0, 100)"
     ],
     "language": "python",
     "metadata": {},
     "outputs": []
    },
    {
     "cell_type": "code",
     "collapsed": false,
     "input": [
      "timelines = df.set_index(['run_id', 'time']).unstack()\n",
      "timelines.head()"
     ],
     "language": "python",
     "metadata": {},
     "outputs": []
    },
    {
     "cell_type": "code",
     "collapsed": false,
     "input": [
      "plt.figure(figsize=(25, 15), dpi=200)\n",
      "im = imread('bg.png')\n",
      "im = im[:, 500:2000]\n",
      "plt.imshow(im, origin='upper')"
     ],
     "language": "python",
     "metadata": {},
     "outputs": []
    },
    {
     "cell_type": "code",
     "collapsed": false,
     "input": [
      "plt.figure(figsize=(25, 15), dpi=200)\n",
      "im = imread('bg.png')\n",
      "im = im[:, :2000]\n",
      "plt.imshow(im, origin='upper')\n",
      "\n",
      "plt.plot(df.x * 16, df.y * 16, '.k', alpha=0.3)\n",
      "plt.xlim(0, 1000)"
     ],
     "language": "python",
     "metadata": {},
     "outputs": []
    },
    {
     "cell_type": "code",
     "collapsed": false,
     "input": [
      "im = imread('bg.png')\n",
      "\n",
      "def explore(run, time):\n",
      "    plt.figure(figsize=(20, 7), dpi=100)\n",
      "    ax = plt.gca()\n",
      "    \n",
      "    show_image(ax)\n",
      "    draw_timeline(ax, run, time)\n",
      "    \n",
      "def show_image(axes):\n",
      "    axes.imshow(im, interpolation='nearest', origin='upper', extent=[0, im.shape[1] / 16., im.shape[0] / 16., 0])    \n",
      "    axes.set_xlim(0, 75)\n",
      "    axes.set_ylim(14, -5)\n",
      "\n",
      "def draw_timeline(axes, run, time):\n",
      "    sub = timelines.iloc[run]\n",
      "    x = sub.x\n",
      "    y = sub.y\n",
      "    \n",
      "    xt = x.values[time]\n",
      "    yt = y.values[time]\n",
      "    \n",
      "    axes.plot(x, y, 'r-',        # plot the timeline\n",
      "             [xt], [yt], 'ko',   # overplot the black circle\n",
      "             lw=3, ms=20)"
     ],
     "language": "python",
     "metadata": {},
     "outputs": []
    },
    {
     "cell_type": "code",
     "collapsed": false,
     "input": [
      "explore(run=5, time=20)"
     ],
     "language": "python",
     "metadata": {},
     "outputs": []
    },
    {
     "cell_type": "code",
     "collapsed": false,
     "input": [
      "interact(explore, run=(0, 110), time=(0, 350))"
     ],
     "language": "python",
     "metadata": {},
     "outputs": []
    },
    {
     "cell_type": "code",
     "collapsed": false,
     "input": [
      "from glue import custom_viewer, qglue\n",
      "\n",
      "mario_viewer = custom_viewer('Mario',\n",
      "                             run=(0, 110),\n",
      "                             time=(0, 350),\n",
      "                             x='att(x)',\n",
      "                             y='att(y)')\n",
      "\n",
      "\n",
      "@mario_viewer.setup\n",
      "def show_image(axes):\n",
      "    axes.imshow(im, interpolation='nearest', origin='upper', extent=[0, im.shape[1] / 16., im.shape[0] / 16., 0])    \n",
      "    axes.set_xlim(0, 75)\n",
      "    axes.set_ylim(14, -5)\n",
      "\n",
      "@mario_viewer.settings_changed\n",
      "def draw_timeline(axes, run, time):\n",
      "    sub = timelines.iloc[run]\n",
      "    x = sub.x\n",
      "    y = sub.y\n",
      "    \n",
      "    xt = x.values[time]\n",
      "    yt = y.values[time]\n",
      "    \n",
      "    axes.plot(x, y, 'r-',        # plot the timeline\n",
      "             [xt], [yt], 'ko',   # overplot the black circle\n",
      "             lw=3, ms=20)\n",
      "    \n",
      "    \n",
      "@mario_viewer.plot_subset\n",
      "def draw_subset(axes, x, y, style):\n",
      "    axes.plot(x, y, 'o', mec='none', mfc=style.color)"
     ],
     "language": "python",
     "metadata": {},
     "outputs": []
    },
    {
     "cell_type": "code",
     "collapsed": false,
     "input": [
      "qglue(data=data)"
     ],
     "language": "python",
     "metadata": {},
     "outputs": []
    },
    {
     "cell_type": "code",
     "collapsed": false,
     "input": [],
     "language": "python",
     "metadata": {},
     "outputs": []
    }
   ],
   "metadata": {}
  }
 ]
}